{
 "cells": [
  {
   "cell_type": "code",
   "execution_count": 8,
   "id": "4c4f2a7c-f16c-4780-b116-d1d4c505b580",
   "metadata": {},
   "outputs": [
    {
     "name": "stdout",
     "output_type": "stream",
     "text": [
      "Collecting psycopg2\n",
      "  Obtaining dependency information for psycopg2 from https://files.pythonhosted.org/packages/58/4b/c4a26e191882b60150bfcb639e416524ae7f8249ab7ee854fb5247f16c40/psycopg2-2.9.9-cp312-cp312-win_amd64.whl.metadata\n",
      "  Downloading psycopg2-2.9.9-cp312-cp312-win_amd64.whl.metadata (4.5 kB)\n",
      "Downloading psycopg2-2.9.9-cp312-cp312-win_amd64.whl (1.2 MB)\n",
      "   ---------------------------------------- 0.0/1.2 MB ? eta -:--:--\n",
      "   ---------------------------------------- 0.0/1.2 MB ? eta -:--:--\n",
      "   ---------------------------------------- 0.0/1.2 MB ? eta -:--:--\n",
      "   - -------------------------------------- 0.0/1.2 MB 217.9 kB/s eta 0:00:06\n",
      "   - -------------------------------------- 0.0/1.2 MB 217.9 kB/s eta 0:00:06\n",
      "   --- ------------------------------------ 0.1/1.2 MB 435.7 kB/s eta 0:00:03\n",
      "   ---- ----------------------------------- 0.1/1.2 MB 479.3 kB/s eta 0:00:03\n",
      "   ---- ----------------------------------- 0.1/1.2 MB 479.3 kB/s eta 0:00:03\n",
      "   ------ --------------------------------- 0.2/1.2 MB 562.0 kB/s eta 0:00:02\n",
      "   ------ --------------------------------- 0.2/1.2 MB 562.0 kB/s eta 0:00:02\n",
      "   ------- -------------------------------- 0.2/1.2 MB 573.4 kB/s eta 0:00:02\n",
      "   --------- ------------------------------ 0.3/1.2 MB 607.9 kB/s eta 0:00:02\n",
      "   ---------- ----------------------------- 0.3/1.2 MB 633.4 kB/s eta 0:00:02\n",
      "   ------------ --------------------------- 0.4/1.2 MB 673.7 kB/s eta 0:00:02\n",
      "   ------------ --------------------------- 0.4/1.2 MB 673.7 kB/s eta 0:00:02\n",
      "   ------------ --------------------------- 0.4/1.2 MB 673.7 kB/s eta 0:00:02\n",
      "   -------------- ------------------------- 0.4/1.2 MB 610.2 kB/s eta 0:00:02\n",
      "   ------------------- -------------------- 0.6/1.2 MB 752.3 kB/s eta 0:00:01\n",
      "   ------------------- -------------------- 0.6/1.2 MB 750.9 kB/s eta 0:00:01\n",
      "   ---------------------- ----------------- 0.6/1.2 MB 780.9 kB/s eta 0:00:01\n",
      "   ---------------------- ----------------- 0.6/1.2 MB 780.9 kB/s eta 0:00:01\n",
      "   ---------------------- ----------------- 0.6/1.2 MB 780.9 kB/s eta 0:00:01\n",
      "   ------------------------- -------------- 0.7/1.2 MB 762.9 kB/s eta 0:00:01\n",
      "   -------------------------- ------------- 0.8/1.2 MB 735.7 kB/s eta 0:00:01\n",
      "   --------------------------- ------------ 0.8/1.2 MB 751.4 kB/s eta 0:00:01\n",
      "   ---------------------------- ----------- 0.8/1.2 MB 750.4 kB/s eta 0:00:01\n",
      "   ------------------------------ --------- 0.9/1.2 MB 761.1 kB/s eta 0:00:01\n",
      "   -------------------------------- ------- 1.0/1.2 MB 772.8 kB/s eta 0:00:01\n",
      "   ---------------------------------- ----- 1.0/1.2 MB 766.8 kB/s eta 0:00:01\n",
      "   ---------------------------------- ----- 1.0/1.2 MB 766.8 kB/s eta 0:00:01\n",
      "   ------------------------------------ --- 1.1/1.2 MB 783.1 kB/s eta 0:00:01\n",
      "   ------------------------------------ --- 1.1/1.2 MB 783.1 kB/s eta 0:00:01\n",
      "   ------------------------------------ --- 1.1/1.2 MB 783.1 kB/s eta 0:00:01\n",
      "   ---------------------------------------  1.2/1.2 MB 772.3 kB/s eta 0:00:01\n",
      "   ---------------------------------------- 1.2/1.2 MB 760.9 kB/s eta 0:00:00\n",
      "Installing collected packages: psycopg2\n",
      "Successfully installed psycopg2-2.9.9\n"
     ]
    },
    {
     "name": "stderr",
     "output_type": "stream",
     "text": [
      "\n",
      "[notice] A new release of pip is available: 23.2.1 -> 23.3.2\n",
      "[notice] To update, run: python.exe -m pip install --upgrade pip\n"
     ]
    }
   ],
   "source": [
    "##creating tables with Postgresql\n",
    "!pip install psycopg2\n"
   ]
  },
  {
   "cell_type": "code",
   "execution_count": 5,
   "id": "07236106-c566-468c-bda0-fc70f889e159",
   "metadata": {},
   "outputs": [
    {
     "name": "stdout",
     "output_type": "stream",
     "text": [
      "Requirement already satisfied: pip in c:\\users\\nazish.mehmood\\appdata\\local\\programs\\python\\python312\\lib\\site-packages (23.2.1)\n",
      "Collecting pip\n",
      "  Obtaining dependency information for pip from https://files.pythonhosted.org/packages/15/aa/3f4c7bcee2057a76562a5b33ecbd199be08cdb4443a02e26bd2c3cf6fc39/pip-23.3.2-py3-none-any.whl.metadata\n",
      "  Downloading pip-23.3.2-py3-none-any.whl.metadata (3.5 kB)\n",
      "Downloading pip-23.3.2-py3-none-any.whl (2.1 MB)\n",
      "   ---------------------------------------- 0.0/2.1 MB ? eta -:--:--\n",
      "   ---------------------------------------- 0.0/2.1 MB ? eta -:--:--\n",
      "   ---------------------------------------- 0.0/2.1 MB ? eta -:--:--\n",
      "   ---------------------------------------- 0.0/2.1 MB ? eta -:--:--\n",
      "    --------------------------------------- 0.0/2.1 MB 330.3 kB/s eta 0:00:07\n",
      "   - -------------------------------------- 0.1/2.1 MB 512.0 kB/s eta 0:00:04\n",
      "   -- ------------------------------------- 0.1/2.1 MB 595.3 kB/s eta 0:00:04\n",
      "   --- ------------------------------------ 0.2/2.1 MB 656.4 kB/s eta 0:00:03\n",
      "   --- ------------------------------------ 0.2/2.1 MB 695.5 kB/s eta 0:00:03\n",
      "   ---- ----------------------------------- 0.2/2.1 MB 754.9 kB/s eta 0:00:03\n",
      "   ----- ---------------------------------- 0.3/2.1 MB 770.1 kB/s eta 0:00:03\n",
      "   ----- ---------------------------------- 0.3/2.1 MB 791.9 kB/s eta 0:00:03\n",
      "   ----- ---------------------------------- 0.3/2.1 MB 791.9 kB/s eta 0:00:03\n",
      "   ----- ---------------------------------- 0.3/2.1 MB 791.9 kB/s eta 0:00:03\n",
      "   ------ --------------------------------- 0.3/2.1 MB 580.3 kB/s eta 0:00:04\n",
      "   ------- -------------------------------- 0.4/2.1 MB 708.6 kB/s eta 0:00:03\n",
      "   ------- -------------------------------- 0.4/2.1 MB 708.6 kB/s eta 0:00:03\n",
      "   ------- -------------------------------- 0.4/2.1 MB 708.6 kB/s eta 0:00:03\n",
      "   -------- ------------------------------- 0.5/2.1 MB 641.8 kB/s eta 0:00:03\n",
      "   ----------- ---------------------------- 0.6/2.1 MB 789.8 kB/s eta 0:00:02\n",
      "   ----------- ---------------------------- 0.6/2.1 MB 742.0 kB/s eta 0:00:03\n",
      "   ------------ --------------------------- 0.7/2.1 MB 762.9 kB/s eta 0:00:02\n",
      "   ------------ --------------------------- 0.7/2.1 MB 762.9 kB/s eta 0:00:02\n",
      "   ------------ --------------------------- 0.7/2.1 MB 762.9 kB/s eta 0:00:02\n",
      "   ---------------- ----------------------- 0.9/2.1 MB 860.2 kB/s eta 0:00:02\n",
      "   ---------------- ----------------------- 0.9/2.1 MB 860.2 kB/s eta 0:00:02\n",
      "   ----------------- ---------------------- 0.9/2.1 MB 824.4 kB/s eta 0:00:02\n",
      "   ------------------ --------------------- 1.0/2.1 MB 855.6 kB/s eta 0:00:02\n",
      "   -------------------- ------------------- 1.1/2.1 MB 914.4 kB/s eta 0:00:02\n",
      "   --------------------- ------------------ 1.1/2.1 MB 921.1 kB/s eta 0:00:02\n",
      "   ---------------------- ----------------- 1.2/2.1 MB 922.8 kB/s eta 0:00:02\n",
      "   ----------------------- ---------------- 1.2/2.1 MB 925.3 kB/s eta 0:00:01\n",
      "   ------------------------ --------------- 1.3/2.1 MB 920.9 kB/s eta 0:00:01\n",
      "   ------------------------- -------------- 1.3/2.1 MB 921.7 kB/s eta 0:00:01\n",
      "   -------------------------- ------------- 1.4/2.1 MB 931.5 kB/s eta 0:00:01\n",
      "   -------------------------- ------------- 1.4/2.1 MB 923.0 kB/s eta 0:00:01\n",
      "   --------------------------- ------------ 1.5/2.1 MB 937.5 kB/s eta 0:00:01\n",
      "   ---------------------------- ----------- 1.5/2.1 MB 929.2 kB/s eta 0:00:01\n",
      "   ----------------------------- ---------- 1.6/2.1 MB 933.7 kB/s eta 0:00:01\n",
      "   ------------------------------ --------- 1.6/2.1 MB 932.0 kB/s eta 0:00:01\n",
      "   ------------------------------- -------- 1.6/2.1 MB 936.2 kB/s eta 0:00:01\n",
      "   -------------------------------- ------- 1.7/2.1 MB 932.5 kB/s eta 0:00:01\n",
      "   -------------------------------- ------- 1.7/2.1 MB 933.4 kB/s eta 0:00:01\n",
      "   --------------------------------- ------ 1.8/2.1 MB 926.5 kB/s eta 0:00:01\n",
      "   ---------------------------------- ----- 1.8/2.1 MB 932.4 kB/s eta 0:00:01\n",
      "   ---------------------------------- ----- 1.8/2.1 MB 923.9 kB/s eta 0:00:01\n",
      "   ----------------------------------- ---- 1.9/2.1 MB 927.7 kB/s eta 0:00:01\n",
      "   ------------------------------------ --- 1.9/2.1 MB 928.7 kB/s eta 0:00:01\n",
      "   ------------------------------------- -- 2.0/2.1 MB 925.2 kB/s eta 0:00:01\n",
      "   -------------------------------------- - 2.0/2.1 MB 928.8 kB/s eta 0:00:01\n",
      "   ---------------------------------------  2.1/2.1 MB 921.3 kB/s eta 0:00:01\n",
      "   ---------------------------------------  2.1/2.1 MB 915.8 kB/s eta 0:00:01\n",
      "   ---------------------------------------- 2.1/2.1 MB 907.9 kB/s eta 0:00:00\n"
     ]
    },
    {
     "name": "stderr",
     "output_type": "stream",
     "text": [
      "ERROR: To modify pip, please run the following command:\n",
      "C:\\Users\\nazish.mehmood\\AppData\\Local\\Programs\\Python\\Python312\\python.exe -m pip install --upgrade pip\n",
      "\n",
      "[notice] A new release of pip is available: 23.2.1 -> 23.3.2\n",
      "[notice] To update, run: python.exe -m pip install --upgrade pip\n"
     ]
    }
   ],
   "source": [
    "##creating tables with Postgresql\n",
    "!pip install --upgrade pip"
   ]
  },
  {
   "cell_type": "code",
   "execution_count": 2,
   "id": "878d8aa3-24be-4394-9e23-d64b96fb691d",
   "metadata": {},
   "outputs": [],
   "source": [
    "import psycopg2\n"
   ]
  },
  {
   "cell_type": "code",
   "execution_count": 3,
   "id": "9b26b77f-87ea-418e-be77-b829bd7535b0",
   "metadata": {},
   "outputs": [
    {
     "name": "stdout",
     "output_type": "stream",
     "text": [
      "successfully connected to postgresql\n"
     ]
    }
   ],
   "source": [
    "#create connection to the database\n",
    "try:\n",
    "    conn=psycopg2.connect(\"host=localhost dbname= postgres user=postgres password=emilia\")\n",
    "    print(\"successfully connected to postgresql\")\n",
    "except psycopg2.Error as e:\n",
    "    print(\"error: couldnt create connection to postgresqldb\")\n",
    "    print(e)"
   ]
  },
  {
   "cell_type": "code",
   "execution_count": 4,
   "id": "5164bdac-c33a-4946-bdbe-2e261c7048ad",
   "metadata": {},
   "outputs": [
    {
     "name": "stdout",
     "output_type": "stream",
     "text": [
      "got cursor sucessfully\n"
     ]
    }
   ],
   "source": [
    "#use a connection to get the cursor to execute the queries\n",
    "#cursoe helps you use queries for database\n",
    "try:\n",
    "    cur=conn.cursor()\n",
    "    print(\"got cursor sucessfully\")\n",
    "except psycopg2.Error as e:\n",
    "    print(\"could not get the cursor to the database\")\n",
    "    print(e)"
   ]
  },
  {
   "cell_type": "code",
   "execution_count": 5,
   "id": "9574cde2-80b3-4b5d-bae9-ef8fb350d50a",
   "metadata": {},
   "outputs": [],
   "source": [
    "#set automatic commit to be true so that each action is committed without having to call conn.commit() after each command\n",
    "\n",
    "conn.set_session(autocommit=True)"
   ]
  },
  {
   "cell_type": "code",
   "execution_count": 6,
   "id": "dd8efc57-9258-47a9-b26e-31a260515aab",
   "metadata": {},
   "outputs": [
    {
     "name": "stdout",
     "output_type": "stream",
     "text": [
      "could not create database\n",
      "database \"myfirstdb\" already exists\n",
      "\n"
     ]
    }
   ],
   "source": [
    "#Create Database to do the work in\n",
    "try:\n",
    "    cur.execute(\"create database myfirstdb\") ## the inside query is just sql query, the execute keyword allow us to use sql and execute query\n",
    "    print(\"db created sucessfully\")\n",
    "except psycopg2.Error as e:\n",
    "    print(\"could not create database\")\n",
    "    print(e)  "
   ]
  },
  {
   "cell_type": "code",
   "execution_count": 7,
   "id": "095aebc5-b1b6-48b6-86c1-379e5ec67553",
   "metadata": {},
   "outputs": [
    {
     "name": "stdout",
     "output_type": "stream",
     "text": [
      "connection closed sucessfully\n"
     ]
    }
   ],
   "source": [
    "#lets create the connection of this newly reated database. But first lets close the connection that we already created for postgreql db\n",
    "\n",
    "try:\n",
    "    conn.close()\n",
    "    print(\"connection closed sucessfully\")\n",
    "except psycopg2.Error as e:\n",
    "    print(\"could not closed the connection\")\n",
    "    print(e)  \n",
    "\n",
    "\n",
    "    "
   ]
  },
  {
   "cell_type": "code",
   "execution_count": 8,
   "id": "147be7d3-f5d2-4df8-9a1b-93292146388d",
   "metadata": {},
   "outputs": [
    {
     "name": "stdout",
     "output_type": "stream",
     "text": [
      "successfully connected to postgresql\n",
      "got cursor sucessfully\n"
     ]
    }
   ],
   "source": [
    "#create a new connection to the myfirstdb this time \n",
    "try:\n",
    "    conn=psycopg2.connect(\"host=localhost dbname= myfirstdb user=postgres password=emilia\")\n",
    "    print(\"successfully connected to postgresql\")\n",
    "except psycopg2.Error as e:\n",
    "    print(\"error: couldnt create connection to postgresqldb\")\n",
    "    print(e)\n",
    "\n",
    "#also create the cursor for the new connection as well\n",
    "#use a connection to get the cursor to execute the queries\n",
    "#cursoe helps you use queries for database\n",
    "try:\n",
    "    cur=conn.cursor()\n",
    "    print(\"got cursor sucessfully\")\n",
    "except psycopg2.Error as e:\n",
    "    print(\"could not get the cursor to the database\")\n",
    "    print(e)\n",
    "\n",
    "#set automatic commit to be true so that each action is committed without having to call conn.commit() after each command\n",
    "\n",
    "conn.set_session(autocommit=True)"
   ]
  },
  {
   "cell_type": "code",
   "execution_count": 11,
   "id": "706aac51-ca0a-4f2b-811c-ac5c3e255d20",
   "metadata": {},
   "outputs": [
    {
     "name": "stdout",
     "output_type": "stream",
     "text": [
      "table sucessfully created\n"
     ]
    }
   ],
   "source": [
    "#create tables \n",
    "\n",
    "try:\n",
    "    cur.execute(\"CREATE TABLE IF NOT EXISTS students(student_id int, name varchar, age int, gender varchar, subject varchar, marks int);\")\n",
    "    print(\"table sucessfully created\")\n",
    "except psycopg2.Error as e:\n",
    "    print(\"issue in creating table\")\n",
    "    print(e)    "
   ]
  },
  {
   "cell_type": "code",
   "execution_count": 18,
   "id": "5dc6366c-aa79-43a4-8034-27600d23c3bf",
   "metadata": {},
   "outputs": [
    {
     "name": "stdout",
     "output_type": "stream",
     "text": [
      "1st row sucessfully inserted\n",
      "2nd row sucessfully inserted\n"
     ]
    }
   ],
   "source": [
    "#insert the data in the srudents table  just created above--Manually!\n",
    "\n",
    "try:\n",
    "    cur.execute(\"INSERT INTO students(student_id, name , age, gender, subject , marks) VALUES (%s, %s,%s,%s,%s,%s)\", (1,\"Raj\",23,\"Male\", \"Python\",85))\n",
    "    print(\"1st row sucessfully inserted\")  \n",
    "except psycopg2.Error as e:\n",
    "    print(\"issue in inserting 1st row in the table\")\n",
    "    print(e)    \n",
    "\n",
    "\n",
    "#now second row\n",
    "\n",
    "try:\n",
    "    cur.execute(\"INSERT INTO students(student_id, name , age, gender, subject , marks) VALUES (%s, %s,%s,%s,%s,%s)\", (4,\"Hira\",24,\"Female\", \"C++\",80))\n",
    "    print(\"2nd row sucessfully inserted\")  \n",
    "except psycopg2.Error as e:\n",
    "    print(\"issue in inserting 2nd row in the table\")\n",
    "    print(e) \n"
   ]
  },
  {
   "cell_type": "code",
   "execution_count": 19,
   "id": "0341f509-d2b6-4615-ad0c-299c12832616",
   "metadata": {},
   "outputs": [
    {
     "name": "stdout",
     "output_type": "stream",
     "text": [
      "(1, 'Raj', 23, 'Male', 'Python', 85)\n",
      "(1, 'Raj', 23, 'Male', 'Python', 85)\n",
      "(4, 'Hira', 24, 'Female', 'C++', 80)\n"
     ]
    }
   ],
   "source": [
    "#validate the abover operations and check the records of the table\n",
    "\n",
    "try:\n",
    "    cur.execute(\"SELECT * FROM students\")\n",
    "except psycopg2.Error as e:\n",
    "    print(\"issue fetching records from students table\")\n",
    "    print(e)  \n",
    "\n",
    "row=cur.fetchone()\n",
    "while row:\n",
    "    print(row)\n",
    "    row=cur.fetchone()\n",
    "    "
   ]
  },
  {
   "cell_type": "code",
   "execution_count": 21,
   "id": "a7e423f7-3520-4a29-b222-d66dd8b11b4e",
   "metadata": {},
   "outputs": [],
   "source": [
    "#make sure to close the cursor and connection\n",
    "cur.close()\n",
    "conn.close()"
   ]
  }
 ],
 "metadata": {
  "kernelspec": {
   "display_name": "Python 3 (ipykernel)",
   "language": "python",
   "name": "python3"
  },
  "language_info": {
   "codemirror_mode": {
    "name": "ipython",
    "version": 3
   },
   "file_extension": ".py",
   "mimetype": "text/x-python",
   "name": "python",
   "nbconvert_exporter": "python",
   "pygments_lexer": "ipython3",
   "version": "3.12.1"
  }
 },
 "nbformat": 4,
 "nbformat_minor": 5
}
